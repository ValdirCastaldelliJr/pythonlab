{
 "cells": [
  {
   "cell_type": "markdown",
   "id": "b8c58bce",
   "metadata": {},
   "source": [
    "*Teste*"
   ]
  },
  {
   "cell_type": "code",
   "execution_count": 2,
   "id": "73b54003",
   "metadata": {},
   "outputs": [
    {
     "name": "stdout",
     "output_type": "stream",
     "text": [
      "hello world! 3\n"
     ]
    }
   ],
   "source": [
    "number = 1\n",
    "another_number = 2\n",
    "\n",
    "print(\"hello world!\", number + another_number)"
   ]
  }
 ],
 "metadata": {
  "kernelspec": {
   "display_name": "base",
   "language": "python",
   "name": "python3"
  },
  "language_info": {
   "codemirror_mode": {
    "name": "ipython",
    "version": 3
   },
   "file_extension": ".py",
   "mimetype": "text/x-python",
   "name": "python",
   "nbconvert_exporter": "python",
   "pygments_lexer": "ipython3",
   "version": "3.12.7"
  }
 },
 "nbformat": 4,
 "nbformat_minor": 5
}
